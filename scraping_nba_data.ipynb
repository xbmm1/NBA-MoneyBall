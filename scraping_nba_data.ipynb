{
 "cells": [
  {
   "cell_type": "code",
   "execution_count": 13,
   "id": "a569fcb7-526b-4646-9432-f2729266e1ac",
   "metadata": {},
   "outputs": [],
   "source": [
    "from bs4 import BeautifulSoup\n",
    "import requests\n",
    "# import pandas as pd\n"
   ]
  },
  {
   "cell_type": "code",
   "execution_count": 41,
   "id": "b7bbe769-6744-484b-8cfb-251397830d67",
   "metadata": {},
   "outputs": [],
   "source": [
    "url = \"https://www.nba.com/playoffs/2023/the-finals/stats\"\n",
    "r = requests.get(url)"
   ]
  },
  {
   "cell_type": "code",
   "execution_count": 3,
   "id": "49a58c11-b1ae-4a9e-b7ca-1d75ea47ed11",
   "metadata": {},
   "outputs": [],
   "source": [
    "# !pip install html5lib"
   ]
  },
  {
   "cell_type": "code",
   "execution_count": 8,
   "id": "e9338568-61c7-4df3-aab2-5377864e72a8",
   "metadata": {
    "tags": []
   },
   "outputs": [],
   "source": [
    "# pd.read_html(url, attrs={\"class\":\"Crom_table__p1iZz\"})"
   ]
  },
  {
   "cell_type": "code",
   "execution_count": null,
   "id": "2762d0b4-6749-4efb-93db-3d16bbaef92c",
   "metadata": {},
   "outputs": [],
   "source": [
    "soup = BeautifulSoup(r.content, \"html.parser\")\n",
    "soup"
   ]
  },
  {
   "cell_type": "code",
   "execution_count": 48,
   "id": "20dbfbd9-1574-4958-b3b1-4467749892c6",
   "metadata": {},
   "outputs": [
    {
     "name": "stdout",
     "output_type": "stream",
     "text": [
      "None\n"
     ]
    }
   ],
   "source": [
    "print(soup.find(\"table\", attrs={\"class\":\"Crom_table__p1iZz\"}))"
   ]
  },
  {
   "cell_type": "code",
   "execution_count": null,
   "id": "fcc87994-b26a-42d8-ae70-fcad4e229c51",
   "metadata": {},
   "outputs": [],
   "source": []
  }
 ],
 "metadata": {
  "kernelspec": {
   "display_name": "Python 3 (ipykernel)",
   "language": "python",
   "name": "python3"
  },
  "language_info": {
   "codemirror_mode": {
    "name": "ipython",
    "version": 3
   },
   "file_extension": ".py",
   "mimetype": "text/x-python",
   "name": "python",
   "nbconvert_exporter": "python",
   "pygments_lexer": "ipython3",
   "version": "3.9.16"
  }
 },
 "nbformat": 4,
 "nbformat_minor": 5
}
